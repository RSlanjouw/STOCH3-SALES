{
 "cells": [
  {
   "cell_type": "markdown",
   "metadata": {},
   "source": [
    "# Assignment 3 \n",
    "Names:\n",
    "Michael MacFarlane Glasow  \n",
    "Rinske Oskamp  \n",
    "Ruben Lanjouw  \n",
    "\n",
    "Git fame:\n",
    "| Author   |   loc |   coms |   fils |  distribution   |\n",
    "|:---------|------:|-------:|-------:|:----------------|\n",
    "| RubenYDL |  1955 |      8 |     14 | 94.6/72.7/93.3  |\n",
    "| Rinske   |   112 |      3 |      1 | 5.4/27.3/ 6.7   |\n",
    "  \n",
    "  \n",
    "\n",
    "NOTE: Git was screwed again. IPYNB are not easy to manage in git. Thats why we decided to make the code in python first. Michael moslty made the plots and the hypothesis tested, thats why its not vissable in the git Fame. This ipynb does not contain the code for the plots but can be requested. "
   ]
  },
  {
   "cell_type": "code",
   "execution_count": 1,
   "metadata": {},
   "outputs": [],
   "source": [
    "import matplotlib.pyplot as plt\n",
    "import numpy as np\n",
    "import pandas as pd"
   ]
  },
  {
   "cell_type": "code",
   "execution_count": 28,
   "metadata": {},
   "outputs": [],
   "source": [
    "# read the data files\n",
    "def read_file(file=\"a280.tsp.txt\"):\n",
    "    folder= \"./TSP-Configurations/\"\n",
    "    file = open(folder + file, \"r\")\n",
    "    lines = file.readlines()\n",
    "    file.close()\n",
    "\n",
    "    # skip the beginning!\n",
    "    lines = lines[6:-1]\n",
    "    lines = [line.split() for line in lines]\n",
    "    lines = [[int(line[0]), float(line[1]), float(line[2])] for line in lines]\n",
    "    return lines\n",
    "\n",
    "# calculate the distance between two nodes with pythagoras theorem\n",
    "def distance_two_nodes(node1, node2):\n",
    "    x1, y1 = node1[1], node1[2]\n",
    "    x2, y2 = node2[1], node2[2]\n",
    "    return np.sqrt((x1-x2)**2 + (y1-y2)**2)\n",
    "\n",
    "\n",
    "# calculate total distance of a route \n",
    "def distance_route(route):\n",
    "    total_distance = 0\n",
    "    for i in range(len(route)-1):\n",
    "        total_distance += distance_two_nodes(route[i], route[i+1])\n",
    "    total_distance += distance_two_nodes(route[-1], route[0])\n",
    "    return total_distance\n",
    "\n",
    "# make random route\n",
    "def random_route(coordinates):  \n",
    "    start = coordinates[0]\n",
    "    end = coordinates[0]\n",
    "    cities = coordinates[1:]\n",
    "    route = [start] + list(np.random.permutation(cities)) + [end]\n",
    "    return np.array(route)\n"
   ]
  },
  {
   "cell_type": "code",
   "execution_count": 29,
   "metadata": {},
   "outputs": [],
   "source": [
    "def two_opt_alg(route):\n",
    "    new_route = route.copy()\n",
    "    n= len(route)\n",
    "    # always min 3 cities\n",
    "    i = np.random.choice(np.arange(1, n-2))\n",
    "    j = i + 1\n",
    "    p = np.random.choice(np.arange(j+1, n))\n",
    "    # q = p + 1\n",
    "    new_route[j:p] = new_route[j:p][::-1]\n",
    "    return new_route\n",
    "\n",
    "def simulated_annealing(route, initial_temp=10000, cooling_rate=0.995, iterations=100000, coolingsc = \"lin\", markov_chain_length=1, verbose=True, cooling=True):\n",
    "    if type(iterations) == list:\n",
    "        lijst = iterations\n",
    "        iterations = iterations[-1]\n",
    "    current_route = route\n",
    "    current_distance = distance_route(route)\n",
    "    best_route = current_route\n",
    "    best_distance = current_distance\n",
    "    temperature = initial_temp\n",
    "    minimum = False\n",
    "    final_temp = 1\n",
    "    results = []\n",
    "    step_size= initial_temp/ (cooling_rate * iterations)\n",
    "    temp = []\n",
    "\n",
    "    for iteration in range(iterations):\n",
    "        # Generate a neighboring solution using 2-opt\n",
    "        new_route = two_opt_alg(current_route)\n",
    "        new_distance = distance_route(new_route)\n",
    "        if cooling:\n",
    "            if new_distance < current_distance or np.random.rand() < np.exp((current_distance - new_distance) / temperature):\n",
    "                current_route = new_route\n",
    "                current_distance = new_distance\n",
    "                if current_distance < best_distance:\n",
    "                    best_route = current_route\n",
    "                    best_distance = current_distance\n",
    "\n",
    "            if iteration % markov_chain_length == 0 and temperature > 10**-7:\n",
    "                if coolingsc == \"lin\":\n",
    "                    temperature = max(10**-7,temperature - step_size)\n",
    "                if coolingsc == \"exp\":\n",
    "                    temperature = max(10**-7,temperature * cooling_rate)\n",
    "                if coolingsc == \"log\":\n",
    "                    temperature = max(10**-7,temperature / (1 + np.log(1 + iteration)))\n",
    "        else:\n",
    "            if new_distance < best_distance:\n",
    "                best_route = new_route\n",
    "                best_distance = new_distance\n",
    "\n",
    "        if iteration in lijst:\n",
    "            results.append(best_distance)\n",
    "            temp.append(temperature)\n",
    "        if verbose and (iteration % 10000 == 0 and iteration != 0):\n",
    "            print(f\"Iteration: {iteration}, Best distance: {best_distance}, Temperature: {temperature}\")\n",
    "    return best_route, best_distance, results, temp\n",
    "\n",
    "\n",
    "    \n",
    "def bruteforce_two_opt_alg(route, iterations,gap=1000):\n",
    "    best_route = route\n",
    "    best_distance = distance_route(route)\n",
    "    results = []\n",
    "    for i in range(iterations):\n",
    "        new_route = two_opt_alg(best_route)\n",
    "        new_distance = distance_route(new_route)\n",
    "        if new_distance < best_distance:\n",
    "            best_route = new_route\n",
    "            best_distance = new_distance\n",
    "        if i % gap == 0:\n",
    "            results.append(best_distance)\n",
    "    return best_route, best_distance, results\n",
    "\n"
   ]
  },
  {
   "cell_type": "code",
   "execution_count": 30,
   "metadata": {},
   "outputs": [
    {
     "name": "stdout",
     "output_type": "stream",
     "text": [
      "Done with lin\n",
      "Done with exp\n",
      "Done with log\n"
     ]
    }
   ],
   "source": [
    "coordinates = read_file()\n",
    "initial_route = random_route(coordinates)\n",
    "cooling_schedules = [\"lin\", \"exp\", \"log\"]\n",
    "iterations = list(range(0,1001,100))\n",
    "results = []\n",
    "initial_route = random_route(coordinates)\n",
    "for coolingsc in cooling_schedules:\n",
    "    distances = []\n",
    "    for i in range(10):\n",
    "        best_route, best_distance, res, temp = simulated_annealing(initial_route, iterations=iterations, coolingsc=coolingsc)\n",
    "        distances.append(res)\n",
    "    results.append([coolingsc, iterations, distances])\n",
    "    print(f\"Done with {coolingsc}\")\n",
    "\n",
    "# save the results \n",
    "np.save(\"lin.npy\", results[0][2])\n",
    "np.save(\"exp.npy\", results[1][2])\n",
    "np.save(\"log.npy\", results[2][2])\n"
   ]
  },
  {
   "cell_type": "code",
   "execution_count": 31,
   "metadata": {},
   "outputs": [
    {
     "data": {
      "text/plain": [
       "2586.7696475631606"
      ]
     },
     "execution_count": 31,
     "metadata": {},
     "output_type": "execute_result"
    }
   ],
   "source": [
    "# code to find the fastest route with a bad algorithm\n",
    "def get_optimum(route):\n",
    "    folder= \"TSP-Configurations/\"\n",
    "    file = open(folder + \"a280.opt.tour.txt\", \"r\")\n",
    "    lines = file.readlines()\n",
    "    file.close()\n",
    "    lines = lines[4:-2]\n",
    "    lines = [int(line) for line in lines]\n",
    "\n",
    "    empty_list = [0] * len(lines)\n",
    "    for item in route:\n",
    "        city_number = item[0]\n",
    "        matching_index = lines.index(int(city_number))\n",
    "        empty_list[matching_index] = item\n",
    "    return empty_list\n",
    "\n",
    "coordinates = read_file()\n",
    "initial_route = random_route(coordinates)\n",
    "distance_route(get_optimum(initial_route))"
   ]
  },
  {
   "cell_type": "markdown",
   "metadata": {},
   "source": [
    "### Example Plot:"
   ]
  },
  {
   "cell_type": "code",
   "execution_count": 32,
   "metadata": {},
   "outputs": [
    {
     "data": {
      "text/plain": [
       "[<matplotlib.lines.Line2D at 0x1fed3341cc0>]"
      ]
     },
     "execution_count": 32,
     "metadata": {},
     "output_type": "execute_result"
    },
    {
     "data": {
      "image/png": "[encoded data removed]",
      "text/plain": [
       "<Figure size 640x480 with 1 Axes>"
      ]
     },
     "metadata": {},
     "output_type": "display_data"
    }
   ],
   "source": [
    "# example plot\n",
    "lin = np.load(\"lin.npy\")\n",
    "exp = np.load(\"exp.npy\")\n",
    "log = np.load(\"log.npy\")\n",
    "plt.plot(iterations[:10],np.mean(lin, axis=0), label=\"Linear\")"
   ]
  }
 ],
 "metadata": {
  "kernelspec": {
   "display_name": "Python 3",
   "language": "python",
   "name": "python3"
  },
  "language_info": {
   "codemirror_mode": {
    "name": "ipython",
    "version": 3
   },
   "file_extension": ".py",
   "mimetype": "text/x-python",
   "name": "python",
   "nbconvert_exporter": "python",
   "pygments_lexer": "ipython3",
   "version": "3.10.11"
  }
 },
 "nbformat": 4,
 "nbformat_minor": 2
}
